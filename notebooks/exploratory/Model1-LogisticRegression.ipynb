{
 "cells": [
  {
   "cell_type": "markdown",
   "metadata": {},
   "source": [
    "# Classification using Logistic Regression\n",
    "## Goal\n",
    " - Tune hyperparameters for Logistic Regression model\n",
    "\n",
    "##  Conclusion\n",
    " - Tuning had little affect on F1 Score\n",
    " - Final model has decent accuracy (0.84 for training and 0.83 for test)\n",
    " - Final model has decent recall (0.85 for training and 0.82 for test)\n",
    " - Precision on final model is not very good (0.47 for training and 0.45 for test)"
   ]
  },
  {
   "cell_type": "code",
   "execution_count": 1,
   "metadata": {},
   "outputs": [],
   "source": [
    "# Standard Imports\n",
    "import numpy as np\n",
    "import pandas as pd\n",
    "import matplotlib.pyplot as plt\n",
    "\n",
    "# Models\n",
    "from sklearn.linear_model import LogisticRegression\n",
    "\n",
    "# Transformers\n",
    "from sklearn.preprocessing import StandardScaler, OneHotEncoder\n",
    "from sklearn.compose import make_column_transformer, make_column_selector\n",
    "from imblearn.over_sampling import SMOTE\n",
    "\n",
    "# Model Evaluation\n",
    "from sklearn.model_selection import train_test_split, GridSearchCV\n",
    "from sklearn.metrics import plot_confusion_matrix, f1_score, precision_score, recall_score\n",
    "\n",
    "# Pipelines\n",
    "from imblearn.pipeline import Pipeline"
   ]
  },
  {
   "cell_type": "markdown",
   "metadata": {},
   "source": [
    "### Import Data"
   ]
  },
  {
   "cell_type": "code",
   "execution_count": 2,
   "metadata": {},
   "outputs": [],
   "source": [
    "df = pd.read_csv('../../data/processed/churn_dataset.csv', index_col = 0)\n",
    "X = df.drop(columns = 'churn')\n",
    "y = df.churn\n",
    "\n",
    "random_state = 45\n",
    "cv = 5"
   ]
  },
  {
   "cell_type": "code",
   "execution_count": 4,
   "metadata": {},
   "outputs": [
    {
     "data": {
      "text/html": [
       "<div>\n",
       "<style scoped>\n",
       "    .dataframe tbody tr th:only-of-type {\n",
       "        vertical-align: middle;\n",
       "    }\n",
       "\n",
       "    .dataframe tbody tr th {\n",
       "        vertical-align: top;\n",
       "    }\n",
       "\n",
       "    .dataframe thead th {\n",
       "        text-align: right;\n",
       "    }\n",
       "</style>\n",
       "<table border=\"1\" class=\"dataframe\">\n",
       "  <thead>\n",
       "    <tr style=\"text-align: right;\">\n",
       "      <th></th>\n",
       "      <th>state</th>\n",
       "      <th>acct_length</th>\n",
       "      <th>intl_plan</th>\n",
       "      <th>vm_plan</th>\n",
       "      <th>no_vm_msg</th>\n",
       "      <th>day_mins</th>\n",
       "      <th>day_calls</th>\n",
       "      <th>eve_mins</th>\n",
       "      <th>eve_calls</th>\n",
       "      <th>night_mins</th>\n",
       "      <th>night_calls</th>\n",
       "      <th>intl_mins</th>\n",
       "      <th>intl_calls</th>\n",
       "      <th>service_calls</th>\n",
       "      <th>city</th>\n",
       "      <th>service_calls_over_3</th>\n",
       "      <th>day_mins_over_225</th>\n",
       "    </tr>\n",
       "  </thead>\n",
       "  <tbody>\n",
       "    <tr>\n",
       "      <th>0</th>\n",
       "      <td>KS</td>\n",
       "      <td>128</td>\n",
       "      <td>no</td>\n",
       "      <td>yes</td>\n",
       "      <td>25</td>\n",
       "      <td>265.1</td>\n",
       "      <td>110</td>\n",
       "      <td>197.4</td>\n",
       "      <td>99</td>\n",
       "      <td>244.7</td>\n",
       "      <td>91</td>\n",
       "      <td>10.0</td>\n",
       "      <td>3</td>\n",
       "      <td>1</td>\n",
       "      <td>San_Francisco</td>\n",
       "      <td>0</td>\n",
       "      <td>1</td>\n",
       "    </tr>\n",
       "    <tr>\n",
       "      <th>1</th>\n",
       "      <td>OH</td>\n",
       "      <td>107</td>\n",
       "      <td>no</td>\n",
       "      <td>yes</td>\n",
       "      <td>26</td>\n",
       "      <td>161.6</td>\n",
       "      <td>123</td>\n",
       "      <td>195.5</td>\n",
       "      <td>103</td>\n",
       "      <td>254.4</td>\n",
       "      <td>103</td>\n",
       "      <td>13.7</td>\n",
       "      <td>3</td>\n",
       "      <td>1</td>\n",
       "      <td>San_Francisco</td>\n",
       "      <td>0</td>\n",
       "      <td>0</td>\n",
       "    </tr>\n",
       "    <tr>\n",
       "      <th>2</th>\n",
       "      <td>NJ</td>\n",
       "      <td>137</td>\n",
       "      <td>no</td>\n",
       "      <td>no</td>\n",
       "      <td>0</td>\n",
       "      <td>243.4</td>\n",
       "      <td>114</td>\n",
       "      <td>121.2</td>\n",
       "      <td>110</td>\n",
       "      <td>162.6</td>\n",
       "      <td>104</td>\n",
       "      <td>12.2</td>\n",
       "      <td>5</td>\n",
       "      <td>0</td>\n",
       "      <td>San_Francisco</td>\n",
       "      <td>0</td>\n",
       "      <td>1</td>\n",
       "    </tr>\n",
       "    <tr>\n",
       "      <th>3</th>\n",
       "      <td>OH</td>\n",
       "      <td>84</td>\n",
       "      <td>yes</td>\n",
       "      <td>no</td>\n",
       "      <td>0</td>\n",
       "      <td>299.4</td>\n",
       "      <td>71</td>\n",
       "      <td>61.9</td>\n",
       "      <td>88</td>\n",
       "      <td>196.9</td>\n",
       "      <td>89</td>\n",
       "      <td>6.6</td>\n",
       "      <td>7</td>\n",
       "      <td>2</td>\n",
       "      <td>San_Jose</td>\n",
       "      <td>0</td>\n",
       "      <td>1</td>\n",
       "    </tr>\n",
       "    <tr>\n",
       "      <th>4</th>\n",
       "      <td>OK</td>\n",
       "      <td>75</td>\n",
       "      <td>yes</td>\n",
       "      <td>no</td>\n",
       "      <td>0</td>\n",
       "      <td>166.7</td>\n",
       "      <td>113</td>\n",
       "      <td>148.3</td>\n",
       "      <td>122</td>\n",
       "      <td>186.9</td>\n",
       "      <td>121</td>\n",
       "      <td>10.1</td>\n",
       "      <td>3</td>\n",
       "      <td>3</td>\n",
       "      <td>San_Francisco</td>\n",
       "      <td>0</td>\n",
       "      <td>0</td>\n",
       "    </tr>\n",
       "    <tr>\n",
       "      <th>...</th>\n",
       "      <td>...</td>\n",
       "      <td>...</td>\n",
       "      <td>...</td>\n",
       "      <td>...</td>\n",
       "      <td>...</td>\n",
       "      <td>...</td>\n",
       "      <td>...</td>\n",
       "      <td>...</td>\n",
       "      <td>...</td>\n",
       "      <td>...</td>\n",
       "      <td>...</td>\n",
       "      <td>...</td>\n",
       "      <td>...</td>\n",
       "      <td>...</td>\n",
       "      <td>...</td>\n",
       "      <td>...</td>\n",
       "      <td>...</td>\n",
       "    </tr>\n",
       "    <tr>\n",
       "      <th>3328</th>\n",
       "      <td>AZ</td>\n",
       "      <td>192</td>\n",
       "      <td>no</td>\n",
       "      <td>yes</td>\n",
       "      <td>36</td>\n",
       "      <td>156.2</td>\n",
       "      <td>77</td>\n",
       "      <td>215.5</td>\n",
       "      <td>126</td>\n",
       "      <td>279.1</td>\n",
       "      <td>83</td>\n",
       "      <td>9.9</td>\n",
       "      <td>6</td>\n",
       "      <td>2</td>\n",
       "      <td>San_Francisco</td>\n",
       "      <td>0</td>\n",
       "      <td>0</td>\n",
       "    </tr>\n",
       "    <tr>\n",
       "      <th>3329</th>\n",
       "      <td>WV</td>\n",
       "      <td>68</td>\n",
       "      <td>no</td>\n",
       "      <td>no</td>\n",
       "      <td>0</td>\n",
       "      <td>231.1</td>\n",
       "      <td>57</td>\n",
       "      <td>153.4</td>\n",
       "      <td>55</td>\n",
       "      <td>191.3</td>\n",
       "      <td>123</td>\n",
       "      <td>9.6</td>\n",
       "      <td>4</td>\n",
       "      <td>3</td>\n",
       "      <td>San_Francisco</td>\n",
       "      <td>0</td>\n",
       "      <td>1</td>\n",
       "    </tr>\n",
       "    <tr>\n",
       "      <th>3330</th>\n",
       "      <td>RI</td>\n",
       "      <td>28</td>\n",
       "      <td>no</td>\n",
       "      <td>no</td>\n",
       "      <td>0</td>\n",
       "      <td>180.8</td>\n",
       "      <td>109</td>\n",
       "      <td>288.8</td>\n",
       "      <td>58</td>\n",
       "      <td>191.9</td>\n",
       "      <td>91</td>\n",
       "      <td>14.1</td>\n",
       "      <td>6</td>\n",
       "      <td>2</td>\n",
       "      <td>Oakland</td>\n",
       "      <td>0</td>\n",
       "      <td>0</td>\n",
       "    </tr>\n",
       "    <tr>\n",
       "      <th>3331</th>\n",
       "      <td>CT</td>\n",
       "      <td>184</td>\n",
       "      <td>yes</td>\n",
       "      <td>no</td>\n",
       "      <td>0</td>\n",
       "      <td>213.8</td>\n",
       "      <td>105</td>\n",
       "      <td>159.6</td>\n",
       "      <td>84</td>\n",
       "      <td>139.2</td>\n",
       "      <td>137</td>\n",
       "      <td>5.0</td>\n",
       "      <td>10</td>\n",
       "      <td>2</td>\n",
       "      <td>Oakland</td>\n",
       "      <td>0</td>\n",
       "      <td>0</td>\n",
       "    </tr>\n",
       "    <tr>\n",
       "      <th>3332</th>\n",
       "      <td>TN</td>\n",
       "      <td>74</td>\n",
       "      <td>no</td>\n",
       "      <td>yes</td>\n",
       "      <td>25</td>\n",
       "      <td>234.4</td>\n",
       "      <td>113</td>\n",
       "      <td>265.9</td>\n",
       "      <td>82</td>\n",
       "      <td>241.4</td>\n",
       "      <td>77</td>\n",
       "      <td>13.7</td>\n",
       "      <td>4</td>\n",
       "      <td>0</td>\n",
       "      <td>San_Francisco</td>\n",
       "      <td>0</td>\n",
       "      <td>1</td>\n",
       "    </tr>\n",
       "  </tbody>\n",
       "</table>\n",
       "<p>3333 rows × 17 columns</p>\n",
       "</div>"
      ],
      "text/plain": [
       "     state  acct_length intl_plan vm_plan  no_vm_msg  day_mins  day_calls  \\\n",
       "0       KS          128        no     yes         25     265.1        110   \n",
       "1       OH          107        no     yes         26     161.6        123   \n",
       "2       NJ          137        no      no          0     243.4        114   \n",
       "3       OH           84       yes      no          0     299.4         71   \n",
       "4       OK           75       yes      no          0     166.7        113   \n",
       "...    ...          ...       ...     ...        ...       ...        ...   \n",
       "3328    AZ          192        no     yes         36     156.2         77   \n",
       "3329    WV           68        no      no          0     231.1         57   \n",
       "3330    RI           28        no      no          0     180.8        109   \n",
       "3331    CT          184       yes      no          0     213.8        105   \n",
       "3332    TN           74        no     yes         25     234.4        113   \n",
       "\n",
       "      eve_mins  eve_calls  night_mins  night_calls  intl_mins  intl_calls  \\\n",
       "0        197.4         99       244.7           91       10.0           3   \n",
       "1        195.5        103       254.4          103       13.7           3   \n",
       "2        121.2        110       162.6          104       12.2           5   \n",
       "3         61.9         88       196.9           89        6.6           7   \n",
       "4        148.3        122       186.9          121       10.1           3   \n",
       "...        ...        ...         ...          ...        ...         ...   \n",
       "3328     215.5        126       279.1           83        9.9           6   \n",
       "3329     153.4         55       191.3          123        9.6           4   \n",
       "3330     288.8         58       191.9           91       14.1           6   \n",
       "3331     159.6         84       139.2          137        5.0          10   \n",
       "3332     265.9         82       241.4           77       13.7           4   \n",
       "\n",
       "      service_calls           city  service_calls_over_3  day_mins_over_225  \n",
       "0                 1  San_Francisco                     0                  1  \n",
       "1                 1  San_Francisco                     0                  0  \n",
       "2                 0  San_Francisco                     0                  1  \n",
       "3                 2       San_Jose                     0                  1  \n",
       "4                 3  San_Francisco                     0                  0  \n",
       "...             ...            ...                   ...                ...  \n",
       "3328              2  San_Francisco                     0                  0  \n",
       "3329              3  San_Francisco                     0                  1  \n",
       "3330              2        Oakland                     0                  0  \n",
       "3331              2        Oakland                     0                  0  \n",
       "3332              0  San_Francisco                     0                  1  \n",
       "\n",
       "[3333 rows x 17 columns]"
      ]
     },
     "execution_count": 4,
     "metadata": {},
     "output_type": "execute_result"
    }
   ],
   "source": [
    "X"
   ]
  },
  {
   "cell_type": "markdown",
   "metadata": {},
   "source": [
    "### Calculate baseline F1-Score"
   ]
  },
  {
   "cell_type": "code",
   "execution_count": 3,
   "metadata": {},
   "outputs": [
    {
     "data": {
      "text/plain": [
       "Pipeline(steps=[('preprocessing',\n",
       "                 ColumnTransformer(remainder='passthrough',\n",
       "                                   transformers=[('onehotencoder',\n",
       "                                                  OneHotEncoder(handle_unknown='ignore'),\n",
       "                                                  <sklearn.compose._column_transformer.make_column_selector object at 0x7ffa63540d60>),\n",
       "                                                 ('standardscaler',\n",
       "                                                  StandardScaler(),\n",
       "                                                  <sklearn.compose._column_transformer.make_column_selector object at 0x7ffa6356d070>)])),\n",
       "                ('sm', SMOTE(random_state=45)),\n",
       "                ('lr', LogisticRegression(max_iter=1000, random_state=45))])"
      ]
     },
     "execution_count": 3,
     "metadata": {},
     "output_type": "execute_result"
    }
   ],
   "source": [
    "X_train_all, X_hold_out, y_train_all, y_hold_out = train_test_split(X, y, random_state = random_state)\n",
    "number_selector = make_column_selector(dtype_include='number')\n",
    "string_selector = make_column_selector(dtype_include='object')\n",
    "preprocessing = make_column_transformer((OneHotEncoder(handle_unknown='ignore'), string_selector),\n",
    "                                        (StandardScaler(), number_selector),\n",
    "                                        remainder='passthrough')\n",
    "logreg = LogisticRegression(random_state = random_state, max_iter = 1000)\n",
    "pipeline = Pipeline([('preprocessing', preprocessing),\n",
    "                     ('sm', SMOTE(random_state = random_state)), \n",
    "                     ('lr', logreg)])\n",
    "pipeline.fit(X_train_all, y_train_all)"
   ]
  },
  {
   "cell_type": "code",
   "execution_count": 4,
   "metadata": {},
   "outputs": [
    {
     "name": "stdout",
     "output_type": "stream",
     "text": [
      "Baseline Training F1-Score: 0.61\n",
      "Baseline Testing F1-Score: 0.57\n"
     ]
    }
   ],
   "source": [
    "train_preds = pipeline.predict(X_train_all)\n",
    "hold_out_preds = pipeline.predict(X_hold_out)\n",
    "\n",
    "train_f1 = f1_score(y_train_all, train_preds)\n",
    "test_f1 = f1_score(y_hold_out, hold_out_preds)\n",
    "print('Baseline Training F1-Score: {:.2f}'.format(train_f1))\n",
    "print('Baseline Testing F1-Score: {:.2f}'.format(test_f1))"
   ]
  },
  {
   "cell_type": "markdown",
   "metadata": {},
   "source": [
    "### Tune Hyperparameters\n",
    "***First Round:***\n",
    "- Try C between 1.0-9.0 in increments of 2.0."
   ]
  },
  {
   "cell_type": "code",
   "execution_count": 5,
   "metadata": {},
   "outputs": [
    {
     "data": {
      "text/plain": [
       "GridSearchCV(estimator=Pipeline(steps=[('preprocessing',\n",
       "                                        ColumnTransformer(remainder='passthrough',\n",
       "                                                          transformers=[('onehotencoder',\n",
       "                                                                         OneHotEncoder(handle_unknown='ignore'),\n",
       "                                                                         <sklearn.compose._column_transformer.make_column_selector object at 0x7ffa63540d60>),\n",
       "                                                                        ('standardscaler',\n",
       "                                                                         StandardScaler(),\n",
       "                                                                         <sklearn.compose._column_transformer.make_column_selector object at 0x7ffa6356d070>)])),\n",
       "                                       ('sm', SMOTE(random_state=45)),\n",
       "                                       ('lr',\n",
       "                                        LogisticRegression(max_iter=1000,\n",
       "                                                           random_state=45))]),\n",
       "             param_grid={'lr__C': array([1., 3., 5., 7., 9.]),\n",
       "                         'lr__class_weight': ('balanced', None),\n",
       "                         'lr__fit_intercept': (True, False),\n",
       "                         'lr__solver': ('newton-cg', 'lbfgs', 'liblinear',\n",
       "                                        'sag', 'saga')},\n",
       "             scoring='f1')"
      ]
     },
     "execution_count": 5,
     "metadata": {},
     "output_type": "execute_result"
    }
   ],
   "source": [
    "param_grid = {'lr__fit_intercept':(True, False), \n",
    "              'lr__C':np.arange(1.0, 10, 2), \n",
    "              'lr__solver':('newton-cg', 'lbfgs', 'liblinear', 'sag', 'saga'),\n",
    "              'lr__class_weight':('balanced', None)}\n",
    "grid_search = GridSearchCV(pipeline, param_grid, scoring = 'f1')\n",
    "grid_search.fit(X_train_all, y_train_all)"
   ]
  },
  {
   "cell_type": "code",
   "execution_count": 6,
   "metadata": {},
   "outputs": [
    {
     "name": "stdout",
     "output_type": "stream",
     "text": [
      "Training F1-Score: 0.61\n",
      "Test F1-Score: 0.57\n"
     ]
    }
   ],
   "source": [
    "print('Training F1-Score: {:.2f}'.format(grid_search.score(X_train_all, y_train_all)))\n",
    "print('Test F1-Score: {:.2f}'.format(grid_search.score(X_hold_out, y_hold_out)))"
   ]
  },
  {
   "cell_type": "code",
   "execution_count": 7,
   "metadata": {},
   "outputs": [
    {
     "data": {
      "text/plain": [
       "{'lr__C': 1.0,\n",
       " 'lr__class_weight': 'balanced',\n",
       " 'lr__fit_intercept': True,\n",
       " 'lr__solver': 'liblinear'}"
      ]
     },
     "execution_count": 7,
     "metadata": {},
     "output_type": "execute_result"
    }
   ],
   "source": [
    "grid_search.best_params_"
   ]
  },
  {
   "cell_type": "markdown",
   "metadata": {},
   "source": [
    "***Second Round:***\n",
    "- First round selected lowest value for C (i.e., 1.0).\n",
    "- Try C between 0.1-1.0 in increments of 0.1."
   ]
  },
  {
   "cell_type": "code",
   "execution_count": 8,
   "metadata": {},
   "outputs": [
    {
     "data": {
      "text/plain": [
       "GridSearchCV(estimator=Pipeline(steps=[('preprocessing',\n",
       "                                        ColumnTransformer(remainder='passthrough',\n",
       "                                                          transformers=[('onehotencoder',\n",
       "                                                                         OneHotEncoder(handle_unknown='ignore'),\n",
       "                                                                         <sklearn.compose._column_transformer.make_column_selector object at 0x7ffa63540d60>),\n",
       "                                                                        ('standardscaler',\n",
       "                                                                         StandardScaler(),\n",
       "                                                                         <sklearn.compose._column_transformer.make_column_selector object at 0x7ffa6356d070>)])),\n",
       "                                       ('sm', SMOTE(random_state=45)),\n",
       "                                       ('lr',\n",
       "                                        LogisticRegression(max_iter=1000,\n",
       "                                                           random_state=45))]),\n",
       "             param_grid={'lr__C': array([0.1, 0.2, 0.3, 0.4, 0.5, 0.6, 0.7, 0.8, 0.9, 1. ]),\n",
       "                         'lr__class_weight': ('balanced', None),\n",
       "                         'lr__fit_intercept': (True, False),\n",
       "                         'lr__solver': ('newton-cg', 'lbfgs', 'liblinear',\n",
       "                                        'sag', 'saga')},\n",
       "             scoring='f1')"
      ]
     },
     "execution_count": 8,
     "metadata": {},
     "output_type": "execute_result"
    }
   ],
   "source": [
    "param_grid = {'lr__fit_intercept':(True, False), \n",
    "              'lr__C':np.arange(0.1, 1.1, .1), \n",
    "              'lr__solver':('newton-cg', 'lbfgs', 'liblinear', 'sag', 'saga'),\n",
    "              'lr__class_weight':('balanced', None)}\n",
    "grid_search = GridSearchCV(pipeline, param_grid, scoring = 'f1')\n",
    "grid_search.fit(X_train_all, y_train_all)"
   ]
  },
  {
   "cell_type": "code",
   "execution_count": 9,
   "metadata": {},
   "outputs": [
    {
     "name": "stdout",
     "output_type": "stream",
     "text": [
      "Training F1-Score: 0.61\n",
      "Test F1-Score: 0.59\n"
     ]
    }
   ],
   "source": [
    "print('Training F1-Score: {:.2f}'.format(grid_search.score(X_train_all, y_train_all)))\n",
    "print('Test F1-Score: {:.2f}'.format(grid_search.score(X_hold_out, y_hold_out)))"
   ]
  },
  {
   "cell_type": "code",
   "execution_count": 10,
   "metadata": {},
   "outputs": [
    {
     "data": {
      "text/plain": [
       "{'lr__C': 0.2,\n",
       " 'lr__class_weight': 'balanced',\n",
       " 'lr__fit_intercept': True,\n",
       " 'lr__solver': 'saga'}"
      ]
     },
     "execution_count": 10,
     "metadata": {},
     "output_type": "execute_result"
    }
   ],
   "source": [
    "grid_search.best_params_"
   ]
  },
  {
   "cell_type": "markdown",
   "metadata": {},
   "source": [
    "***Third Round:***\n",
    "- Second round selected C = 0.2.\n",
    "- Try C between 0.12 - 0.28 in increments of 0.02"
   ]
  },
  {
   "cell_type": "code",
   "execution_count": 11,
   "metadata": {},
   "outputs": [
    {
     "data": {
      "text/plain": [
       "GridSearchCV(estimator=Pipeline(steps=[('preprocessing',\n",
       "                                        ColumnTransformer(remainder='passthrough',\n",
       "                                                          transformers=[('onehotencoder',\n",
       "                                                                         OneHotEncoder(handle_unknown='ignore'),\n",
       "                                                                         <sklearn.compose._column_transformer.make_column_selector object at 0x7ffa63540d60>),\n",
       "                                                                        ('standardscaler',\n",
       "                                                                         StandardScaler(),\n",
       "                                                                         <sklearn.compose._column_transformer.make_column_selector object at 0x7ffa6356d070>)])),\n",
       "                                       ('sm', SMOTE(random_state=45)),\n",
       "                                       ('lr',\n",
       "                                        LogisticRegression(max_iter=1000,\n",
       "                                                           random_state=45))]),\n",
       "             param_grid={'lr__C': array([0.12, 0.14, 0.16, 0.18, 0.2 , 0.22, 0.24, 0.26, 0.28]),\n",
       "                         'lr__class_weight': ('balanced', None),\n",
       "                         'lr__fit_intercept': (True, False),\n",
       "                         'lr__solver': ('newton-cg', 'lbfgs', 'liblinear',\n",
       "                                        'sag', 'saga')},\n",
       "             scoring='f1')"
      ]
     },
     "execution_count": 11,
     "metadata": {},
     "output_type": "execute_result"
    }
   ],
   "source": [
    "param_grid = {'lr__fit_intercept':(True, False), \n",
    "              'lr__C':np.arange(0.12, 0.3, .02),\n",
    "              'lr__solver':('newton-cg', 'lbfgs', 'liblinear', 'sag', 'saga'),\n",
    "              'lr__class_weight':('balanced', None)}\n",
    "grid_search = GridSearchCV(pipeline, param_grid, scoring = 'f1')\n",
    "grid_search.fit(X_train_all, y_train_all)"
   ]
  },
  {
   "cell_type": "code",
   "execution_count": 12,
   "metadata": {},
   "outputs": [
    {
     "name": "stdout",
     "output_type": "stream",
     "text": [
      "Training F1-Score: 0.61\n",
      "Test F1-Score: 0.59\n"
     ]
    }
   ],
   "source": [
    "print('Training F1-Score: {:.2f}'.format(grid_search.score(X_train_all, y_train_all)))\n",
    "print('Test F1-Score: {:.2f}'.format(grid_search.score(X_hold_out, y_hold_out)))"
   ]
  },
  {
   "cell_type": "code",
   "execution_count": 13,
   "metadata": {},
   "outputs": [
    {
     "data": {
      "text/plain": [
       "{'lr__C': 0.21999999999999995,\n",
       " 'lr__class_weight': 'balanced',\n",
       " 'lr__fit_intercept': True,\n",
       " 'lr__solver': 'newton-cg'}"
      ]
     },
     "execution_count": 13,
     "metadata": {},
     "output_type": "execute_result"
    }
   ],
   "source": [
    "grid_search.best_params_"
   ]
  },
  {
   "cell_type": "markdown",
   "metadata": {},
   "source": [
    "### Instantiate Final Model"
   ]
  },
  {
   "cell_type": "code",
   "execution_count": 14,
   "metadata": {},
   "outputs": [
    {
     "data": {
      "text/plain": [
       "Pipeline(steps=[('preprocessing',\n",
       "                 ColumnTransformer(remainder='passthrough',\n",
       "                                   transformers=[('onehotencoder',\n",
       "                                                  OneHotEncoder(handle_unknown='ignore'),\n",
       "                                                  <sklearn.compose._column_transformer.make_column_selector object at 0x7ffa63540d60>),\n",
       "                                                 ('standardscaler',\n",
       "                                                  StandardScaler(),\n",
       "                                                  <sklearn.compose._column_transformer.make_column_selector object at 0x7ffa6356d070>)])),\n",
       "                ('sm', SMOTE(random_state=45)),\n",
       "                ('lr',\n",
       "                 LogisticRegression(C=0.22, class_weight='balanced',\n",
       "                                    max_iter=1000, random_state=45,\n",
       "                                    solver='newton-cg'))])"
      ]
     },
     "execution_count": 14,
     "metadata": {},
     "output_type": "execute_result"
    }
   ],
   "source": [
    "logreg = LogisticRegression(random_state = random_state, max_iter = 1000, \n",
    "                            C = 0.22, fit_intercept = True, class_weight = 'balanced', \n",
    "                            solver = 'newton-cg')\n",
    "pipeline = Pipeline([('preprocessing', preprocessing),\n",
    "                     ('sm', SMOTE(random_state = random_state)), \n",
    "                     ('lr', logreg)])\n",
    "pipeline.fit(X_train_all, y_train_all)"
   ]
  },
  {
   "cell_type": "code",
   "execution_count": 15,
   "metadata": {},
   "outputs": [
    {
     "name": "stdout",
     "output_type": "stream",
     "text": [
      "Training F1-Score: 0.61\n",
      "Testing F1-Score: 0.59\n"
     ]
    }
   ],
   "source": [
    "train_preds = pipeline.predict(X_train_all)\n",
    "hold_out_preds = pipeline.predict(X_hold_out)\n",
    "\n",
    "train_f1 = f1_score(y_train_all, train_preds)\n",
    "test_f1 = f1_score(y_hold_out, hold_out_preds)\n",
    "print('Training F1-Score: {:.2f}'.format(train_f1))\n",
    "print('Testing F1-Score: {:.2f}'.format(test_f1))"
   ]
  },
  {
   "cell_type": "markdown",
   "metadata": {},
   "source": [
    "### Check Confusion Matrices and Calculate Accuracy"
   ]
  },
  {
   "cell_type": "code",
   "execution_count": 16,
   "metadata": {},
   "outputs": [
    {
     "data": {
      "text/plain": [
       "<sklearn.metrics._plot.confusion_matrix.ConfusionMatrixDisplay at 0x7ffa6330aa90>"
      ]
     },
     "execution_count": 16,
     "metadata": {},
     "output_type": "execute_result"
    },
    {
     "data": {
      "image/png": "[encoded data removed]",
      "text/plain": [
       "<Figure size 432x288 with 2 Axes>"
      ]
     },
     "metadata": {
      "needs_background": "light"
     },
     "output_type": "display_data"
    }
   ],
   "source": [
    "plot_confusion_matrix(pipeline, X_train_all, y_train_all, display_labels=['not churned', 'churned'])"
   ]
  },
  {
   "cell_type": "code",
   "execution_count": 17,
   "metadata": {},
   "outputs": [
    {
     "name": "stdout",
     "output_type": "stream",
     "text": [
      "Training Accuracy: 0.84\n",
      "Training Recall: 0.85\n",
      "Training Precision: 0.47\n"
     ]
    }
   ],
   "source": [
    "print('Training Accuracy: {:.2f}'.format(pipeline.score(X_train_all, y_train_all)))\n",
    "print('Training Recall: {:.2f}'.format(recall_score(y_train_all, train_preds)))\n",
    "print('Training Precision: {:.2f}'.format(precision_score(y_train_all, train_preds)))"
   ]
  },
  {
   "cell_type": "markdown",
   "metadata": {},
   "source": [
    "***Notes***\n",
    "- Training accuracy is decent\n",
    "- Training recall is decent\n",
    "- Training precision is not very good"
   ]
  },
  {
   "cell_type": "code",
   "execution_count": 18,
   "metadata": {},
   "outputs": [
    {
     "data": {
      "text/plain": [
       "<sklearn.metrics._plot.confusion_matrix.ConfusionMatrixDisplay at 0x7ffa613041f0>"
      ]
     },
     "execution_count": 18,
     "metadata": {},
     "output_type": "execute_result"
    },
    {
     "data": {
      "image/png": "[encoded data removed]",
      "text/plain": [
       "<Figure size 432x288 with 2 Axes>"
      ]
     },
     "metadata": {
      "needs_background": "light"
     },
     "output_type": "display_data"
    }
   ],
   "source": [
    "plot_confusion_matrix(pipeline, X_hold_out, y_hold_out, display_labels=['not churned', 'churned'])"
   ]
  },
  {
   "cell_type": "code",
   "execution_count": 19,
   "metadata": {},
   "outputs": [
    {
     "name": "stdout",
     "output_type": "stream",
     "text": [
      "Test Accuracy: 0.83\n",
      "Test Recall: 0.82\n",
      "Test Precision: 0.45\n"
     ]
    }
   ],
   "source": [
    "print('Test Accuracy: {:.2f}'.format(pipeline.score(X_hold_out, y_hold_out)))\n",
    "print('Test Recall: {:.2f}'.format(recall_score(y_hold_out, hold_out_preds)))\n",
    "print('Test Precision: {:.2f}'.format(precision_score(y_hold_out, hold_out_preds)))"
   ]
  },
  {
   "cell_type": "markdown",
   "metadata": {},
   "source": [
    "***Notes***\n",
    "- Test accuracy is decent\n",
    "- Test recall is decent\n",
    "- Test precision is not very good"
   ]
  },
  {
   "cell_type": "code",
   "execution_count": null,
   "metadata": {},
   "outputs": [],
   "source": []
  }
 ],
 "metadata": {
  "kernelspec": {
   "display_name": "Python 3",
   "language": "python",
   "name": "python3"
  },
  "language_info": {
   "codemirror_mode": {
    "name": "ipython",
    "version": 3
   },
   "file_extension": ".py",
   "mimetype": "text/x-python",
   "name": "python",
   "nbconvert_exporter": "python",
   "pygments_lexer": "ipython3",
   "version": "3.8.5"
  }
 },
 "nbformat": 4,
 "nbformat_minor": 4
}
