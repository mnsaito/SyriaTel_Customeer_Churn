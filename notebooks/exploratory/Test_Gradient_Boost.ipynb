{
 "cells": [
  {
   "cell_type": "markdown",
   "metadata": {},
   "source": [
    "# Test Gradient Boost Model\n",
    "## Goal\n",
    " - Test Gradient Boost model using different random_state\n",
    "\n",
    "##  Conclusion\n",
    " - Final model has very high accuracy (0.98 for training and 0.96 for test)\n",
    " - Final model has decent recall (0.85 for training and 0.86 for test)\n",
    " - Final model has fairly high precision (1.0 for training and 0.90 for test)"
   ]
  },
  {
   "cell_type": "code",
   "execution_count": 1,
   "metadata": {},
   "outputs": [],
   "source": [
    "# Standard Imports\n",
    "import numpy as np\n",
    "import pandas as pd\n",
    "import matplotlib.pyplot as plt\n",
    "\n",
    "# Models\n",
    "from sklearn.ensemble import GradientBoostingClassifier\n",
    "\n",
    "# Transformers\n",
    "from sklearn.preprocessing import StandardScaler, OneHotEncoder\n",
    "from sklearn.compose import make_column_transformer, make_column_selector\n",
    "from imblearn.over_sampling import SMOTE\n",
    "\n",
    "# Model Evaluation\n",
    "from sklearn.model_selection import train_test_split, GridSearchCV\n",
    "from sklearn.metrics import plot_confusion_matrix, f1_score, precision_score, recall_score\n",
    "\n",
    "# Pipelines\n",
    "from imblearn.pipeline import Pipeline"
   ]
  },
  {
   "cell_type": "markdown",
   "metadata": {},
   "source": [
    "### Import Data"
   ]
  },
  {
   "cell_type": "code",
   "execution_count": 2,
   "metadata": {},
   "outputs": [],
   "source": [
    "df = pd.read_csv('../../data/processed/churn_dataset.csv', index_col = 0)\n",
    "X = df.drop(columns = 'churn')\n",
    "y = df.churn"
   ]
  },
  {
   "cell_type": "markdown",
   "metadata": {},
   "source": [
    "### Instantiate Final Model with Different random_state"
   ]
  },
  {
   "cell_type": "code",
   "execution_count": 3,
   "metadata": {},
   "outputs": [
    {
     "data": {
      "text/plain": [
       "Pipeline(steps=[('preprocessing',\n",
       "                 ColumnTransformer(remainder='passthrough',\n",
       "                                   transformers=[('onehotencoder',\n",
       "                                                  OneHotEncoder(handle_unknown='ignore'),\n",
       "                                                  <sklearn.compose._column_transformer.make_column_selector object at 0x7fc277aff910>),\n",
       "                                                 ('standardscaler',\n",
       "                                                  StandardScaler(),\n",
       "                                                  <sklearn.compose._column_transformer.make_column_selector object at 0x7fc277aff820>)])),\n",
       "                ('sm', SMOTE(random_state=1234)),\n",
       "                ('gb',\n",
       "                 GradientBoostingClassifier(max_depth=5, max_leaf_nodes=15,\n",
       "                                            min_samples_leaf=50,\n",
       "                                            n_estimators=150, random_state=1234,\n",
       "                                            warm_start=True))])"
      ]
     },
     "execution_count": 3,
     "metadata": {},
     "output_type": "execute_result"
    }
   ],
   "source": [
    "random_state = 1234\n",
    "X_train_all, X_hold_out, y_train_all, y_hold_out = train_test_split(X, y, random_state = random_state)\n",
    "number_selector = make_column_selector(dtype_include='number')\n",
    "string_selector = make_column_selector(dtype_include='object')\n",
    "preprocessing = make_column_transformer((OneHotEncoder(handle_unknown='ignore'), string_selector),\n",
    "                                        (StandardScaler(), number_selector),\n",
    "                                        remainder='passthrough')\n",
    "gbm = GradientBoostingClassifier(random_state = random_state, \n",
    "                                 loss = 'deviance', max_depth = 5, \n",
    "                                 max_features = None, max_leaf_nodes = 15, \n",
    "                                 min_samples_leaf = 50,\n",
    "                                 n_estimators = 150, warm_start = True)\n",
    "pipeline = Pipeline([('preprocessing', preprocessing),\n",
    "                     ('sm', SMOTE(random_state = random_state)), \n",
    "                     ('gb', gbm)])\n",
    "pipeline.fit(X_train_all, y_train_all)"
   ]
  },
  {
   "cell_type": "markdown",
   "metadata": {},
   "source": [
    "### Check Confusion Matrices and Calculate Accuracy"
   ]
  },
  {
   "cell_type": "code",
   "execution_count": 4,
   "metadata": {},
   "outputs": [
    {
     "data": {
      "text/plain": [
       "<sklearn.metrics._plot.confusion_matrix.ConfusionMatrixDisplay at 0x7fc277b3a070>"
      ]
     },
     "execution_count": 4,
     "metadata": {},
     "output_type": "execute_result"
    },
    {
     "data": {
      "image/png": "[encoded data removed]",
      "text/plain": [
       "<Figure size 432x288 with 2 Axes>"
      ]
     },
     "metadata": {
      "needs_background": "light"
     },
     "output_type": "display_data"
    }
   ],
   "source": [
    "train_preds = pipeline.predict(X_train_all)\n",
    "hold_out_preds = pipeline.predict(X_hold_out)\n",
    "plot_confusion_matrix(pipeline, X_train_all, y_train_all, display_labels=['not churned', 'churned'])"
   ]
  },
  {
   "cell_type": "code",
   "execution_count": 5,
   "metadata": {},
   "outputs": [
    {
     "name": "stdout",
     "output_type": "stream",
     "text": [
      "Training Accuracy: 0.98\n",
      "Training Recall: 0.85\n",
      "Training Precision: 1.00\n"
     ]
    }
   ],
   "source": [
    "print('Training Accuracy: {:.2f}'.format(pipeline.score(X_train_all, y_train_all)))\n",
    "print('Training Recall: {:.2f}'.format(recall_score(y_train_all, train_preds)))\n",
    "print('Training Precision: {:.2f}'.format(precision_score(y_train_all, train_preds)))"
   ]
  },
  {
   "cell_type": "markdown",
   "metadata": {},
   "source": [
    "***Notes***\n",
    "- Training accuracy is very high\n",
    "- Training recall is decent\n",
    "- Training Precision is very high"
   ]
  },
  {
   "cell_type": "code",
   "execution_count": 6,
   "metadata": {},
   "outputs": [
    {
     "data": {
      "text/plain": [
       "<sklearn.metrics._plot.confusion_matrix.ConfusionMatrixDisplay at 0x7fc27890d160>"
      ]
     },
     "execution_count": 6,
     "metadata": {},
     "output_type": "execute_result"
    },
    {
     "data": {
      "image/png": "[encoded data removed]",
      "text/plain": [
       "<Figure size 432x288 with 2 Axes>"
      ]
     },
     "metadata": {
      "needs_background": "light"
     },
     "output_type": "display_data"
    }
   ],
   "source": [
    "plot_confusion_matrix(pipeline, X_hold_out, y_hold_out, display_labels=['not churned', 'churned'])"
   ]
  },
  {
   "cell_type": "code",
   "execution_count": 7,
   "metadata": {},
   "outputs": [
    {
     "name": "stdout",
     "output_type": "stream",
     "text": [
      "Test Accuracy: 0.96\n",
      "Test Recall: 0.86\n",
      "Test Precision: 0.90\n"
     ]
    }
   ],
   "source": [
    "print('Test Accuracy: {:.2f}'.format(pipeline.score(X_hold_out, y_hold_out)))\n",
    "print('Test Recall: {:.2f}'.format(recall_score(y_hold_out, hold_out_preds)))\n",
    "print('Test Precision: {:.2f}'.format(precision_score(y_hold_out, hold_out_preds)))"
   ]
  },
  {
   "cell_type": "markdown",
   "metadata": {},
   "source": [
    "***Notes***\n",
    "- Training accuracy is very high\n",
    "- Training recall is decent\n",
    "- Training Precision is fairly high"
   ]
  },
  {
   "cell_type": "code",
   "execution_count": null,
   "metadata": {},
   "outputs": [],
   "source": []
  }
 ],
 "metadata": {
  "kernelspec": {
   "display_name": "Python 3",
   "language": "python",
   "name": "python3"
  },
  "language_info": {
   "codemirror_mode": {
    "name": "ipython",
    "version": 3
   },
   "file_extension": ".py",
   "mimetype": "text/x-python",
   "name": "python",
   "nbconvert_exporter": "python",
   "pygments_lexer": "ipython3",
   "version": "3.8.5"
  }
 },
 "nbformat": 4,
 "nbformat_minor": 4
}
