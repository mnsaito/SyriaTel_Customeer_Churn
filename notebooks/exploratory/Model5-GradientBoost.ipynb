{
 "cells": [
  {
   "cell_type": "markdown",
   "metadata": {},
   "source": [
    "# Classification using Gradient Boost\n",
    "## Goal\n",
    " - Tune hyperparameters for Gradient Boost model\n",
    "\n",
    "##  Conclusion\n",
    " - Final model has very high accuracy (0.98 for training and 0.96 for test)\n",
    " - Final model has decent recall (0.88 for training and 0.79 for test)\n",
    " - Final model has fairly high precision (0.98 for training and 0.91 for test)"
   ]
  },
  {
   "cell_type": "code",
   "execution_count": 1,
   "metadata": {},
   "outputs": [],
   "source": [
    "# Standard Imports\n",
    "import numpy as np\n",
    "import pandas as pd\n",
    "import matplotlib.pyplot as plt\n",
    "\n",
    "# Models\n",
    "from sklearn.ensemble import GradientBoostingClassifier\n",
    "\n",
    "# Transformers\n",
    "from sklearn.preprocessing import StandardScaler, OneHotEncoder\n",
    "from sklearn.compose import make_column_transformer, make_column_selector\n",
    "from imblearn.over_sampling import SMOTE\n",
    "\n",
    "# Model Evaluation\n",
    "from sklearn.model_selection import train_test_split, GridSearchCV\n",
    "from sklearn.metrics import plot_confusion_matrix, f1_score, precision_score, recall_score\n",
    "\n",
    "# Pipelines\n",
    "from imblearn.pipeline import Pipeline"
   ]
  },
  {
   "cell_type": "markdown",
   "metadata": {},
   "source": [
    "### Import Data"
   ]
  },
  {
   "cell_type": "code",
   "execution_count": 2,
   "metadata": {},
   "outputs": [],
   "source": [
    "df = pd.read_csv('../../data/processed/churn_dataset.csv', index_col = 0)\n",
    "X = df.drop(columns = 'churn')\n",
    "y = df.churn\n",
    "\n",
    "random_state = 45\n",
    "cv = 5"
   ]
  },
  {
   "cell_type": "markdown",
   "metadata": {},
   "source": [
    "### Calculate baseline F1-Score"
   ]
  },
  {
   "cell_type": "code",
   "execution_count": 3,
   "metadata": {},
   "outputs": [
    {
     "data": {
      "text/plain": [
       "Pipeline(steps=[('preprocessing',\n",
       "                 ColumnTransformer(remainder='passthrough',\n",
       "                                   transformers=[('onehotencoder',\n",
       "                                                  OneHotEncoder(handle_unknown='ignore'),\n",
       "                                                  <sklearn.compose._column_transformer.make_column_selector object at 0x7fb85720ae50>),\n",
       "                                                 ('standardscaler',\n",
       "                                                  StandardScaler(),\n",
       "                                                  <sklearn.compose._column_transformer.make_column_selector object at 0x7fb85727d220>)])),\n",
       "                ('sm', SMOTE(random_state=45)),\n",
       "                ('gb', GradientBoostingClassifier(random_state=45))])"
      ]
     },
     "execution_count": 3,
     "metadata": {},
     "output_type": "execute_result"
    }
   ],
   "source": [
    "X_train_all, X_hold_out, y_train_all, y_hold_out = train_test_split(X, y, random_state = random_state)\n",
    "number_selector = make_column_selector(dtype_include='number')\n",
    "string_selector = make_column_selector(dtype_include='object')\n",
    "preprocessing = make_column_transformer((OneHotEncoder(handle_unknown='ignore'), string_selector),\n",
    "                                        (StandardScaler(), number_selector),\n",
    "                                        remainder='passthrough')\n",
    "gbm = GradientBoostingClassifier(random_state = random_state)\n",
    "pipeline = Pipeline([('preprocessing', preprocessing),\n",
    "                     ('sm', SMOTE(random_state = random_state)), \n",
    "                     ('gb', gbm)])\n",
    "pipeline.fit(X_train_all, y_train_all)"
   ]
  },
  {
   "cell_type": "code",
   "execution_count": 4,
   "metadata": {},
   "outputs": [
    {
     "name": "stdout",
     "output_type": "stream",
     "text": [
      "Baseline Training F1-Score: 0.85\n",
      "Baseline Testing F1-Score: 0.77\n"
     ]
    }
   ],
   "source": [
    "train_preds = pipeline.predict(X_train_all)\n",
    "hold_out_preds = pipeline.predict(X_hold_out)\n",
    "\n",
    "train_f1 = f1_score(y_train_all, train_preds)\n",
    "test_f1 = f1_score(y_hold_out, hold_out_preds)\n",
    "print('Baseline Training F1-Score: {:.2f}'.format(train_f1))\n",
    "print('Baseline Testing F1-Score: {:.2f}'.format(test_f1))"
   ]
  },
  {
   "cell_type": "markdown",
   "metadata": {},
   "source": [
    "### Tune Hyperparameters\n",
    "- Use max_depth, min_samples_leaf and max_leaf_nodes from Decision Tree tuning"
   ]
  },
  {
   "cell_type": "code",
   "execution_count": 5,
   "metadata": {},
   "outputs": [
    {
     "data": {
      "text/plain": [
       "GridSearchCV(estimator=Pipeline(steps=[('preprocessing',\n",
       "                                        ColumnTransformer(remainder='passthrough',\n",
       "                                                          transformers=[('onehotencoder',\n",
       "                                                                         OneHotEncoder(handle_unknown='ignore'),\n",
       "                                                                         <sklearn.compose._column_transformer.make_column_selector object at 0x7fb85720ae50>),\n",
       "                                                                        ('standardscaler',\n",
       "                                                                         StandardScaler(),\n",
       "                                                                         <sklearn.compose._column_transformer.make_column_selector object at...d220>)])),\n",
       "                                       ('sm', SMOTE(random_state=45)),\n",
       "                                       ('gb',\n",
       "                                        GradientBoostingClassifier(random_state=45))]),\n",
       "             param_grid={'gb__loss': ('deviance', 'exponential'),\n",
       "                         'gb__max_depth': [5],\n",
       "                         'gb__max_features': (None, 'auto', 'sqrt', 'log2'),\n",
       "                         'gb__max_leaf_nodes': [15],\n",
       "                         'gb__min_samples_leaf': [50],\n",
       "                         'gb__n_estimators': (25, 50, 75, 100, 125, 150),\n",
       "                         'gb__warm_start': (True, False)},\n",
       "             scoring='f1')"
      ]
     },
     "execution_count": 5,
     "metadata": {},
     "output_type": "execute_result"
    }
   ],
   "source": [
    "param_grid = {'gb__n_estimators':(25, 50, 75, 100, 125, 150), \n",
    "              'gb__loss':('deviance', 'exponential'),\n",
    "              'gb__max_depth':[5],\n",
    "              'gb__min_samples_leaf':[50],\n",
    "              'gb__max_leaf_nodes':[15],\n",
    "              'gb__max_features':(None, 'auto', 'sqrt', 'log2'), \n",
    "              'gb__warm_start':(True, False)}\n",
    "grid_search = GridSearchCV(pipeline, param_grid, scoring = 'f1')\n",
    "grid_search.fit(X_train_all, y_train_all)"
   ]
  },
  {
   "cell_type": "code",
   "execution_count": 6,
   "metadata": {},
   "outputs": [
    {
     "name": "stdout",
     "output_type": "stream",
     "text": [
      "Training F1-Score: 0.92\n",
      "Test F1-Score: 0.85\n"
     ]
    }
   ],
   "source": [
    "print('Training F1-Score: {:.2f}'.format(grid_search.score(X_train_all, y_train_all)))\n",
    "print('Test F1-Score: {:.2f}'.format(grid_search.score(X_hold_out, y_hold_out)))"
   ]
  },
  {
   "cell_type": "code",
   "execution_count": 7,
   "metadata": {},
   "outputs": [
    {
     "data": {
      "text/plain": [
       "{'gb__loss': 'deviance',\n",
       " 'gb__max_depth': 5,\n",
       " 'gb__max_features': None,\n",
       " 'gb__max_leaf_nodes': 15,\n",
       " 'gb__min_samples_leaf': 50,\n",
       " 'gb__n_estimators': 150,\n",
       " 'gb__warm_start': True}"
      ]
     },
     "execution_count": 7,
     "metadata": {},
     "output_type": "execute_result"
    }
   ],
   "source": [
    "grid_search.best_params_"
   ]
  },
  {
   "cell_type": "markdown",
   "metadata": {},
   "source": [
    "### Instantiate final model"
   ]
  },
  {
   "cell_type": "code",
   "execution_count": 8,
   "metadata": {},
   "outputs": [
    {
     "name": "stdout",
     "output_type": "stream",
     "text": [
      "Training F1-Score: 0.92\n",
      "Testing F1-Score: 0.85\n"
     ]
    }
   ],
   "source": [
    "gbm = GradientBoostingClassifier(random_state = random_state, \n",
    "                                 loss = 'deviance', max_depth = 5, \n",
    "                                 max_features = None, max_leaf_nodes = 15, \n",
    "                                 min_samples_leaf = 50,\n",
    "                                 n_estimators = 150, warm_start = True)\n",
    "pipeline = Pipeline([('preprocessing', preprocessing),\n",
    "                     ('sm', SMOTE(random_state = random_state)), \n",
    "                     ('gb', gbm)])\n",
    "pipeline.fit(X_train_all, y_train_all)\n",
    "\n",
    "train_preds = pipeline.predict(X_train_all)\n",
    "hold_out_preds = pipeline.predict(X_hold_out)\n",
    "train_f1 = f1_score(y_train_all, train_preds)\n",
    "test_f1 = f1_score(y_hold_out, hold_out_preds)\n",
    "print('Training F1-Score: {:.2f}'.format(train_f1))\n",
    "print('Testing F1-Score: {:.2f}'.format(test_f1))"
   ]
  },
  {
   "cell_type": "markdown",
   "metadata": {},
   "source": [
    "### Check Confusion Matrices and Calculate Accuracy"
   ]
  },
  {
   "cell_type": "code",
   "execution_count": 9,
   "metadata": {},
   "outputs": [
    {
     "data": {
      "text/plain": [
       "<sklearn.metrics._plot.confusion_matrix.ConfusionMatrixDisplay at 0x7fb859175dc0>"
      ]
     },
     "execution_count": 9,
     "metadata": {},
     "output_type": "execute_result"
    },
    {
     "data": {
      "image/png": "[encoded data removed]",
      "text/plain": [
       "<Figure size 432x288 with 2 Axes>"
      ]
     },
     "metadata": {
      "needs_background": "light"
     },
     "output_type": "display_data"
    }
   ],
   "source": [
    "plot_confusion_matrix(pipeline, X_train_all, y_train_all, display_labels=['not churned', 'churned'])"
   ]
  },
  {
   "cell_type": "code",
   "execution_count": 10,
   "metadata": {},
   "outputs": [
    {
     "name": "stdout",
     "output_type": "stream",
     "text": [
      "Training Accuracy: 0.98\n",
      "Training Recall: 0.88\n",
      "Training Precision: 0.98\n"
     ]
    }
   ],
   "source": [
    "print('Training Accuracy: {:.2f}'.format(pipeline.score(X_train_all, y_train_all)))\n",
    "print('Training Recall: {:.2f}'.format(recall_score(y_train_all, train_preds)))\n",
    "print('Training Precision: {:.2f}'.format(precision_score(y_train_all, train_preds)))"
   ]
  },
  {
   "cell_type": "markdown",
   "metadata": {},
   "source": [
    "***Notes***\n",
    "- Training accuracy is very high\n",
    "- Training recall is decent\n",
    "- Training Precision is very high"
   ]
  },
  {
   "cell_type": "code",
   "execution_count": 11,
   "metadata": {},
   "outputs": [
    {
     "data": {
      "text/plain": [
       "<sklearn.metrics._plot.confusion_matrix.ConfusionMatrixDisplay at 0x7fb8569cc3a0>"
      ]
     },
     "execution_count": 11,
     "metadata": {},
     "output_type": "execute_result"
    },
    {
     "data": {
      "image/png": "[encoded data removed]",
      "text/plain": [
       "<Figure size 432x288 with 2 Axes>"
      ]
     },
     "metadata": {
      "needs_background": "light"
     },
     "output_type": "display_data"
    }
   ],
   "source": [
    "plot_confusion_matrix(pipeline, X_hold_out, y_hold_out, display_labels=['not churned', 'churned'])"
   ]
  },
  {
   "cell_type": "code",
   "execution_count": 12,
   "metadata": {},
   "outputs": [
    {
     "name": "stdout",
     "output_type": "stream",
     "text": [
      "Test Accuracy: 0.96\n",
      "Test Recall: 0.79\n",
      "Test Precision: 0.91\n"
     ]
    }
   ],
   "source": [
    "print('Test Accuracy: {:.2f}'.format(pipeline.score(X_hold_out, y_hold_out)))\n",
    "print('Test Recall: {:.2f}'.format(recall_score(y_hold_out, hold_out_preds)))\n",
    "print('Test Precision: {:.2f}'.format(precision_score(y_hold_out, hold_out_preds)))"
   ]
  },
  {
   "cell_type": "markdown",
   "metadata": {},
   "source": [
    "***Notes***\n",
    "- Training accuracy is very high\n",
    "- Training recall is decent\n",
    "- Training Precision is fairly high"
   ]
  },
  {
   "cell_type": "code",
   "execution_count": null,
   "metadata": {},
   "outputs": [],
   "source": []
  }
 ],
 "metadata": {
  "kernelspec": {
   "display_name": "Python 3",
   "language": "python",
   "name": "python3"
  },
  "language_info": {
   "codemirror_mode": {
    "name": "ipython",
    "version": 3
   },
   "file_extension": ".py",
   "mimetype": "text/x-python",
   "name": "python",
   "nbconvert_exporter": "python",
   "pygments_lexer": "ipython3",
   "version": "3.8.5"
  }
 },
 "nbformat": 4,
 "nbformat_minor": 4
}
